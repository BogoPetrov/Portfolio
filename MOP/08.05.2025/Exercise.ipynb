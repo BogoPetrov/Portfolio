{
 "cells": [
  {
   "metadata": {
    "ExecuteTime": {
     "end_time": "2025-05-08T08:05:04.590778Z",
     "start_time": "2025-05-08T08:05:03.769958Z"
    }
   },
   "cell_type": "code",
   "source": [
    "import pandas as pd\n",
    "import re\n",
    "from itertools import combinations\n",
    "\n",
    "def generate_csv_files():\n",
    "    \"\"\"Генерира course_a.csv и course_b.csv\"\"\"\n",
    "    course_a_data = [\"Alice Johnson\", \"Bob Smith\", \"Charlie Lee\", \"Diana King\"]\n",
    "    course_b_data = [\"Charlie Lee\", \"Eve Adams\", \"Frank Moore\", \"Alice Johnson\"]\n",
    "    pd.DataFrame(course_a_data, columns=[\"name\"]).to_csv(\"course_a.csv\", index=False)\n",
    "    pd.DataFrame(course_b_data, columns=[\"name\"]).to_csv(\"course_b.csv\", index=False)\n",
    "    print(\"CSV файловете са генерирани.\")\n",
    "\n",
    "def task_course_sets():\n",
    "    \"\"\"Обединение и симетрична разлика на курсове\"\"\"\n",
    "    course_a = pd.read_csv(\"course_a.csv\")[\"name\"]\n",
    "    course_b = pd.read_csv(\"course_b.csv\")[\"name\"]\n",
    "    set_a = set(course_a)\n",
    "    set_b = set(course_b)\n",
    "    both = set_a & set_b\n",
    "    only_one = set_a ^ set_b\n",
    "    print(\"\\n[1] Общи студенти:\", both)\n",
    "    print(\"[1] Само в един курс:\", only_one)\n",
    "\n",
    "def task_unique_emails(emails):\n",
    "    \"\"\"Премахване на дубликати в списък с e-mail адреси (без значение на регистъра)\"\"\"\n",
    "    seen = set()\n",
    "    result = []\n",
    "    for email in emails:\n",
    "        key = email.lower()\n",
    "        if key not in seen:\n",
    "            seen.add(key)\n",
    "            result.append(email)\n",
    "    print(\"\\n[2] Уникални e-mail адреси:\", result)\n",
    "\n",
    "def task_sieve(n=1000):\n",
    "    \"\"\"Решето на Ератостен\"\"\"\n",
    "    numbers = set(range(2, n + 1))\n",
    "    for p in range(2, int(n ** 0.5) + 1):\n",
    "        if p in numbers:\n",
    "            numbers -= set(range(p * 2, n + 1, p))\n",
    "    print(f\"\\n[3] Прости числа до {n}:\\n\", sorted(numbers))\n",
    "\n",
    "def task_text_analysis(text):\n",
    "    \"\"\"Анализ на текст\"\"\"\n",
    "    words = re.findall(r\"\\b\\w+\\b\", text)\n",
    "    word_set = set(words)\n",
    "    stopwords = set([\"and\", \"the\", \"is\", \"in\", \"at\", \"on\", \"a\"])\n",
    "    caps_only = {w for w in word_set if w.isupper()}\n",
    "    rest = word_set - caps_only\n",
    "    caps_diff = caps_only ^ rest\n",
    "    print(\"[4] Уникални думи:\", word_set)\n",
    "    print(\"[4] Stopwords:\", stopwords & word_set)\n",
    "    print(\"[4] Симетрична разлика с CAPS_ONLY:\", caps_diff)\n",
    "\n",
    "def min_cover(U, S):\n",
    "    \"\"\"Минимално покритие на множество (Set Cover)\"\"\"\n",
    "    u = set(U)\n",
    "    for r in range(1, len(S) + 1):\n",
    "        for combo in combinations(S, r):\n",
    "            if set().union(*combo) >= u:\n",
    "                return list(combo)\n",
    "    return None\n",
    "\n",
    "def task_set_cover():\n",
    "    \"\"\"Примерен тест за Set Cover\"\"\"\n",
    "    U = [1, 2, 3, 4]\n",
    "    S = [{1, 2}, {2, 3}, {4}, {1, 4}]\n",
    "    result = min_cover(U, S)\n",
    "    print(\"\\n[5] Минимално покритие за u =\", U, \"е:\", result)\n",
    "\n",
    "# === MAIN ===\n",
    "if __name__ == \"__main__\":\n",
    "    generate_csv_files()\n",
    "    task_course_sets()\n",
    "    task_unique_emails([\"Test@email.com\", \"test@email.com\", \"other@domain.com\", \"OTHER@domain.com\"])\n",
    "    task_sieve()\n",
    "    task_text_analysis(\"NASA IS IN THE SPACE and so ARE we\")\n",
    "    task_set_cover()\n"
   ],
   "id": "5e72df1da0808590",
   "outputs": [
    {
     "name": "stdout",
     "output_type": "stream",
     "text": [
      "CSV файловете са генерирани.\n",
      "\n",
      "[1] Общи студенти: {'Charlie Lee', 'Alice Johnson'}\n",
      "[1] Само в един курс: {'Eve Adams', 'Frank Moore', 'Bob Smith', 'Diana King'}\n",
      "\n",
      "[2] Уникални e-mail адреси: ['Test@email.com', 'other@domain.com']\n",
      "\n",
      "[3] Прости числа до 1000:\n",
      " [2, 3, 5, 7, 11, 13, 17, 19, 23, 29, 31, 37, 41, 43, 47, 53, 59, 61, 67, 71, 73, 79, 83, 89, 97, 101, 103, 107, 109, 113, 127, 131, 137, 139, 149, 151, 157, 163, 167, 173, 179, 181, 191, 193, 197, 199, 211, 223, 227, 229, 233, 239, 241, 251, 257, 263, 269, 271, 277, 281, 283, 293, 307, 311, 313, 317, 331, 337, 347, 349, 353, 359, 367, 373, 379, 383, 389, 397, 401, 409, 419, 421, 431, 433, 439, 443, 449, 457, 461, 463, 467, 479, 487, 491, 499, 503, 509, 521, 523, 541, 547, 557, 563, 569, 571, 577, 587, 593, 599, 601, 607, 613, 617, 619, 631, 641, 643, 647, 653, 659, 661, 673, 677, 683, 691, 701, 709, 719, 727, 733, 739, 743, 751, 757, 761, 769, 773, 787, 797, 809, 811, 821, 823, 827, 829, 839, 853, 857, 859, 863, 877, 881, 883, 887, 907, 911, 919, 929, 937, 941, 947, 953, 967, 971, 977, 983, 991, 997]\n",
      "[4] Уникални думи: {'we', 'IN', 'NASA', 'and', 'ARE', 'IS', 'THE', 'so', 'SPACE'}\n",
      "[4] Stopwords: {'and'}\n",
      "[4] Симетрична разлика с CAPS_ONLY: {'we', 'IN', 'NASA', 'and', 'ARE', 'IS', 'THE', 'so', 'SPACE'}\n",
      "\n",
      "[5] Минимално покритие за u = [1, 2, 3, 4] е: [{2, 3}, {1, 4}]\n"
     ]
    }
   ],
   "execution_count": 1
  }
 ],
 "metadata": {
  "kernelspec": {
   "display_name": "Python 3",
   "language": "python",
   "name": "python3"
  },
  "language_info": {
   "codemirror_mode": {
    "name": "ipython",
    "version": 2
   },
   "file_extension": ".py",
   "mimetype": "text/x-python",
   "name": "python",
   "nbconvert_exporter": "python",
   "pygments_lexer": "ipython2",
   "version": "2.7.6"
  }
 },
 "nbformat": 4,
 "nbformat_minor": 5
}
