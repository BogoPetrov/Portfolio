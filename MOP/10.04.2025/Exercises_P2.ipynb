{
 "cells": [
  {
   "cell_type": "code",
   "id": "initial_id",
   "metadata": {
    "collapsed": true,
    "ExecuteTime": {
     "end_time": "2025-04-24T04:56:15.959857Z",
     "start_time": "2025-04-24T04:56:14.361167Z"
    }
   },
   "source": [
    "import numpy as np\n",
    "import matplotlib.pyplot as plt"
   ],
   "outputs": [],
   "execution_count": 2
  },
  {
   "metadata": {
    "ExecuteTime": {
     "end_time": "2025-04-24T04:56:17.059059Z",
     "start_time": "2025-04-24T04:56:17.050806Z"
    }
   },
   "cell_type": "code",
   "source": [
    "# Ex. 11\n",
    "def ex_11():\n",
    "    print(\"\\x1B[4m\" + \"Exercise 11:\" + \"\\x1B[0m\")\n",
    "\n",
    "    v = np.array([2, -3])\n",
    "    reflection_matrix = np.array([[1, 0], [0, -1]])\n",
    "    reflected = reflection_matrix @ v\n",
    "    print(f\"Original vector: {v}\")\n",
    "    print(f\"Reflected vector: {reflected}\")\n",
    "    print(\"The Y coordinate of the reflected vector is the opposite of the original vector.\")\n",
    "\n",
    "    plt.quiver(v[0], v[1], *v, angles='xy', scale_units='xy', scale=1, color='blue', label='Original vector')\n",
    "    plt.quiver(reflected[0], reflected[1], *reflected, angles='xy', scale_units='xy', scale=1, color='red', label='Reflected vector')\n",
    "    plt.title('Reflection of vector v through the Ox in 2D')\n",
    "    plt.xlabel('X')\n",
    "    plt.ylabel('Y')\n",
    "    plt.xlim(-8, 8)\n",
    "    plt.ylim(-8, 8)\n",
    "    plt.legend(loc='upper left', bbox_to_anchor=(1, 1))\n",
    "    plt.grid()\n",
    "    plt.gca().set_aspect('equal')\n",
    "    plt.show()\n",
    "    print(\"-----\" * 20)\n",
    "\n",
    "# Ex. 12\n",
    "def ex_12():\n",
    "    print(\"\\x1B[4m\" + \"Exercise 12:\" + \"\\x1B[0m\")\n",
    "    a = np.array([2, 4, -1])\n",
    "    b = np.array([4, 8, -2])\n",
    "    x_ratio = a[0] / b[0]\n",
    "    y_ratio = a[1] / b[1]\n",
    "    z_ratio = a[2] / b[2]\n",
    "\n",
    "    if (x_ratio == y_ratio and y_ratio == z_ratio and x_ratio == z_ratio) or np.all(np.cross(a, b)) == 0:\n",
    "        is_collinear = True\n",
    "    else:\n",
    "        is_collinear = False\n",
    "\n",
    "    print(f\"Vector a: {a}\")\n",
    "    print(f\"Vector b: {b}\")\n",
    "    print(f\"Collinear: {'Yes' if is_collinear else 'No'}\")\n",
    "    print(\"-----\" * 20)\n",
    "\n",
    "# Ex. 13\n",
    "def ex_13():\n",
    "    print(\"\\x1B[4m\" + \"Exercise 13:\" + \"\\x1B[0m\")\n",
    "\n",
    "    a = np.array([1, 2, 3])\n",
    "    b = np.array([2, 4, 6])\n",
    "    c = np.array([3, 1, 0])\n",
    "\n",
    "    cross_bc = np.cross(b, c)\n",
    "    is_coplanar = np.dot(a, cross_bc) == 0\n",
    "\n",
    "    print(f\"Vector a: {a}\")\n",
    "    print(f\"Vector b: {b}\")\n",
    "    print(f\"Vector c: {c}\")\n",
    "    print(f\"Coplanar: {'Yes' if is_coplanar else 'No'}\")\n",
    "    print(\"-----\" * 20)\n",
    "\n",
    "# Ex. 14\n",
    "def ex_14():\n",
    "    print(\"\\x1B[4m\" + \"Exercise 14:\" + \"\\x1B[0m\")\n",
    "\n",
    "    p = np.array([1, 1, 0])\n",
    "    q = np.array([0, 2, 1])\n",
    "    r = np.array([2, 1, 3])\n",
    "    parallelepiped_volume = np.abs(np.dot(p, np.cross(q, r)))\n",
    "    print(f\"Vector p: {p}\")\n",
    "    print(f\"Vector q: {q}\")\n",
    "    print(f\"Vector r: {r}\")\n",
    "    print(f\"Parallelepiped volume: {parallelepiped_volume}\")"
   ],
   "id": "8c899e09e8c3322e",
   "outputs": [],
   "execution_count": 3
  },
  {
   "metadata": {
    "ExecuteTime": {
     "end_time": "2025-04-19T16:42:33.837448Z",
     "start_time": "2025-04-19T16:42:33.729964Z"
    }
   },
   "cell_type": "code",
   "source": [
    "# Run exercises form 11 to 14\n",
    "ex_11()\n",
    "ex_12()\n",
    "ex_13()\n",
    "ex_14()"
   ],
   "id": "8888b4b34d5ebddf",
   "outputs": [
    {
     "name": "stdout",
     "output_type": "stream",
     "text": [
      "\u001B[4mExercise 11:\u001B[0m\n",
      "Original vector: [ 2 -3]\n",
      "Reflected vector: [2 3]\n",
      "The Y coordinate of the reflected vector is the opposite of the original vector.\n"
     ]
    },
    {
     "data": {
      "text/plain": [
       "<Figure size 640x480 with 1 Axes>"
      ],
      "image/png": "[encoded data removed]"
     },
     "metadata": {},
     "output_type": "display_data"
    },
    {
     "name": "stdout",
     "output_type": "stream",
     "text": [
      "----------------------------------------------------------------------------------------------------\n",
      "\u001B[4mExercise 12:\u001B[0m\n",
      "Vector a: [ 2  4 -1]\n",
      "Vector b: [ 4  8 -2]\n",
      "Collinear: Yes\n",
      "----------------------------------------------------------------------------------------------------\n",
      "\u001B[4mExercise 13:\u001B[0m\n",
      "Vector a: [1 2 3]\n",
      "Vector b: [2 4 6]\n",
      "Vector c: [3 1 0]\n",
      "Coplanar: Yes\n",
      "----------------------------------------------------------------------------------------------------\n",
      "\u001B[4mExercise 14:\u001B[0m\n",
      "Vector p: [1 1 0]\n",
      "Vector q: [0 2 1]\n",
      "Vector r: [2 1 3]\n",
      "Parallelepiped volume: 7\n"
     ]
    }
   ],
   "execution_count": 5
  }
 ],
 "metadata": {
  "kernelspec": {
   "display_name": "Python 3",
   "language": "python",
   "name": "python3"
  },
  "language_info": {
   "codemirror_mode": {
    "name": "ipython",
    "version": 2
   },
   "file_extension": ".py",
   "mimetype": "text/x-python",
   "name": "python",
   "nbconvert_exporter": "python",
   "pygments_lexer": "ipython2",
   "version": "2.7.6"
  }
 },
 "nbformat": 4,
 "nbformat_minor": 5
}
